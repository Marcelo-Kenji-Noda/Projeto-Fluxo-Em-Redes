{
 "cells": [
  {
   "cell_type": "code",
   "execution_count": 95,
   "metadata": {},
   "outputs": [],
   "source": [
    "#Importando pacotes que serão utilizados para a resolução do exercício\n",
    "import numpy as np\n",
    "import networkx as ntx\n",
    "import matplotlib.pyplot as plt\n",
    "import random\n",
    "from networkx.algorithms import tree\n",
    "from itertools import combinations, product\n",
    "from math import comb"
   ]
  },
  {
   "cell_type": "markdown",
   "metadata": {},
   "source": [
    "A soma dos graus de todos os vértices de um grafo G é duas vezes o número de arestas\n",
    "Dado o grafo $G(V,E)$\n",
    "$$\n",
    "\\sum_{v \\in V}{G(v)} = 2 . |E|\n",
    "$$\n",
    "\n",
    "Se queremos que $ |E| = 2|N| $, então, um grafo com todos os vértices de mesmo grau $degree(G)$:\n",
    "\n",
    "$$\n",
    "|N|degree(G) = 2 . 2|N|\n",
    "\n",
    "\\implies degree(G) = 4\n",
    "$$\n",
    "\n",
    "Para facilitar o processo de criação de grafos aleatórios, irá ser considerado que cada vértice possui um grau maior que $4$"
   ]
  },
  {
   "cell_type": "code",
   "execution_count": 23,
   "metadata": {},
   "outputs": [],
   "source": [
    "#função gera um grafo completo com arestas de caminhos aleatórios\n",
    "def get_distance(x1,x2,y1,y2):\n",
    "    dist = ((x1 - x2)**2 + (y1- y2)**2)**(1/2)\n",
    "    return dist\n",
    "\n",
    "def generate_random_graph(n, max_degree, seed=10):\n",
    "    if(max_degree > n):\n",
    "        raise Exception(\"O grau máximo deve ser menor que o número de vértices\")\n",
    "\n",
    "    random.seed(seed)\n",
    "    expected_degree = random.randint(4,max_degree)\n",
    "    \n",
    "    G = ntx.expected_degree_graph(list(np.ones(n)*expected_degree), seed=None, selfloops=False)\n",
    "    #Transforma em um grafo não ordenado\n",
    "    ntx.to_undirected(G)\n",
    "\n",
    "    #Atribui uma coordenada aleatória x e y\n",
    "    for node in ntx.nodes(G):\n",
    "        ntx.set_node_attributes(G,{node:{\"pos\":(random.uniform(0,5),random.uniform(0,5))}})\n",
    "         \n",
    "    #Atribui uma distância a cada ponto\n",
    "    for edge in ntx.edges(G):\n",
    "        ntx.set_edge_attributes(G,{edge:{\"distance\":get_distance(G.nodes[edge[0]]['pos'][0], G.nodes[edge[1]]['pos'][0], G.nodes[edge[0]]['pos'][1], G.nodes[edge[1]]['pos'][1]),\"cmap\":0.25}})\n",
    "        \n",
    "    return G"
   ]
  },
  {
   "cell_type": "code",
   "execution_count": 37,
   "metadata": {},
   "outputs": [],
   "source": [
    "#Função desenha um grafo\n",
    "def draw_graph(G,modified = False, path_list = [], layout='circular', show_arrows = True, has_path = True,custom_edges=[]):\n",
    "    f,ax = plt.subplots(figsize=(6,6))\n",
    "\n",
    "    pos = ntx.get_node_attributes(G,'pos')\n",
    "\n",
    "    #Determina as posições de cada vértice\n",
    "    x = []\n",
    "    y = []\n",
    "\n",
    "    for i in range(len(pos)):\n",
    "        x.append(pos[i][0])\n",
    "        y.append(pos[i][1])\n",
    "\n",
    "    # #Desenha as arestas de acordo com o problema\n",
    "    if not modified:\n",
    "        ntx.draw_networkx_edges(G, pos=pos, edge_color='dimgray',alpha=0.5)\n",
    "\n",
    "    #Plota cada vértice\n",
    "    plt.scatter(x,y,edgecolor={'black'})\n",
    "\n",
    "    #Adiciona o nome em cima de cada vértice\n",
    "    eps=0.03\n",
    "    for i, txt in enumerate(range(len(pos))):\n",
    "        plt.annotate(txt, (x[i]+eps, y[i]+eps))\n",
    "        \n",
    "    ax.tick_params(left=True, bottom=True, labelleft=True, labelbottom=True)\n",
    "    ax.grid(True)\n",
    "    plt.show()"
   ]
  },
  {
   "cell_type": "code",
   "execution_count": 101,
   "metadata": {},
   "outputs": [],
   "source": [
    "def get_random_list_of_edges(n):\n",
    "    if comb(n,2) < n*3:\n",
    "        return list(combinations(range(n), r = 2))\n",
    "    else:\n",
    "        return random.sample(list(combinations(range(n), r = 2)),3*n)"
   ]
  },
  {
   "cell_type": "code",
   "execution_count": 75,
   "metadata": {},
   "outputs": [
    {
     "data": {
      "text/plain": [
       "<itertools.combinations at 0x149b8791e00>"
      ]
     },
     "execution_count": 75,
     "metadata": {},
     "output_type": "execute_result"
    }
   ],
   "source": [
    "combinations(list(product(range(5),repeat = 2)), r = 2)"
   ]
  },
  {
   "cell_type": "code",
   "execution_count": 63,
   "metadata": {},
   "outputs": [
    {
     "data": {
      "image/png": "[encoded data removed]",
      "text/plain": [
       "<Figure size 432x432 with 1 Axes>"
      ]
     },
     "metadata": {
      "needs_background": "light"
     },
     "output_type": "display_data"
    }
   ],
   "source": [
    "n = 8\n",
    "n_max_arestas = 4\n",
    "\n",
    "G = generate_random_graph(n, n_max_arestas, seed=10)\n",
    "draw_graph(G)\n",
    "g_random_edges = get_random_list_of_edges(n)\n",
    "\n",
    "min_distance = []\n",
    "for edge in g_random_edges:\n",
    "    min_distance.append({\"edge\":edge,\"min_dist\":ntx.dijkstra_path_length(G,edge[0],edge[1],weight='distance')})\n",
    "    "
   ]
  },
  {
   "cell_type": "code",
   "execution_count": 53,
   "metadata": {},
   "outputs": [],
   "source": [
    "#Aplicando o método de dijkstra\n",
    "\n",
    "random_edge_list= get_random_list_of_edges(n)\n",
    "\n",
    "min_distance = []\n",
    "for edge in random_edge_list:\n",
    "    res = ntx.dijkstra_path_length(G,edge[0], edge[1],weight='distance')\n",
    "    min_distance.append(res)\n",
    "    if G.has_edge(edge[0], edge[1]):\n",
    "        G[edge[0]][edge[1]].update({\"distance\":res})\n",
    "    else:\n",
    "        G.add_edge(edge[0], edge[1], distance = res)"
   ]
  },
  {
   "cell_type": "code",
   "execution_count": 50,
   "metadata": {},
   "outputs": [],
   "source": [
    "#Criando uma lista de arestas (par de vértices)\n"
   ]
  },
  {
   "cell_type": "code",
   "execution_count": 102,
   "metadata": {},
   "outputs": [
    {
     "data": {
      "text/plain": [
       "24"
      ]
     },
     "execution_count": 102,
     "metadata": {},
     "output_type": "execute_result"
    }
   ],
   "source": [
    "\n",
    "len(random_edge_list)"
   ]
  },
  {
   "cell_type": "code",
   "execution_count": 98,
   "metadata": {},
   "outputs": [
    {
     "data": {
      "text/plain": [
       "[(0, 1),\n",
       " (0, 2),\n",
       " (0, 3),\n",
       " (0, 4),\n",
       " (1, 2),\n",
       " (1, 3),\n",
       " (1, 4),\n",
       " (2, 3),\n",
       " (2, 4),\n",
       " (3, 4)]"
      ]
     },
     "execution_count": 98,
     "metadata": {},
     "output_type": "execute_result"
    }
   ],
   "source": [
    "random_edge_list"
   ]
  },
  {
   "cell_type": "code",
   "execution_count": 34,
   "metadata": {},
   "outputs": [
    {
     "name": "stdout",
     "output_type": "stream",
     "text": [
      "{(0, 2): 4.180638856038543, (0, 5): 4.3126893321717334, (0, 6): 0.7657259501090172, (1, 2): 2.4952318921058545, (1, 5): 2.6072313149300217, (1, 6): 1.62459742713585, (1, 7): 1.7193828366613546, (2, 4): 1.6090440439779887, (2, 5): 0.18195509993198844, (2, 6): 3.7771053646748536, (3, 4): 3.7663195449678395, (3, 5): 4.125992376916031, (6, 7): 1.635186477305665}\n"
     ]
    }
   ],
   "source": [
    "print(ntx.get_edge_attributes(G,\"distance\"))"
   ]
  },
  {
   "cell_type": "code",
   "execution_count": null,
   "metadata": {},
   "outputs": [],
   "source": [
    "#Função desenha um grafo\n",
    "def draw_graph(G,modified = False, path_list = [], layout='circular', show_arrows = True, has_path = True,custom_edges=[]):\n",
    "    f,ax = plt.subplots(figsize=(6,6))\n",
    "\n",
    "    #Define um layout adequado\n",
    "    if layout == 'circular':\n",
    "        pos = ntx.circular_layout(G)\n",
    "    else:\n",
    "        pos = ntx.random_layout(G, seed=3)\n",
    "\n",
    "    #Determina as posições de cada vértice\n",
    "    x = []\n",
    "    y = []\n",
    "    \n",
    "    for i in range(len(pos)):\n",
    "        x.append(pos[i][0])\n",
    "        y.append(pos[i][1])\n",
    "\n",
    "    #Desenha as arestas de acordo com o problema\n",
    "    if not modified:\n",
    "        ntx.draw_networkx_edges(G, pos=pos, edge_color='dimgray',alpha=0.5)\n",
    "    else:\n",
    "        if has_path:\n",
    "            custom_edges = []\n",
    "            for i in range(len(path_list)-1):\n",
    "                custom_edges.append((path_list[i],path_list[i+1]))\n",
    "        edge_labels = ntx.get_edge_attributes(ntx.to_directed(G.subgraph(path_list)), \"weight\")\n",
    "        del edge_labels[(path_list[0],path_list[-1])]\n",
    "        del edge_labels[(path_list[-1],path_list[0])]\n",
    "        if has_path:\n",
    "            #Desenha um subgrafo direcionado dado um trajeto\n",
    "            ntx.draw_networkx_edges(ntx.to_directed(G.subgraph(path_list)), pos=pos\n",
    "    , edgelist = custom_edges, edge_color='r', label='weight', arrows = show_arrows)\n",
    "            ntx.draw_networkx_edge_labels(ntx.to_directed(G.subgraph(path_list)), pos, edge_labels, rotate =False)\n",
    "        else:\n",
    "            ntx.draw_networkx_edges(G.subgraph(path_list), pos=pos\n",
    "    , edgelist = custom_edges, edge_color='r', label='weight', arrows = show_arrows)\n",
    "\n",
    "    #Plota cada vértice\n",
    "    plt.scatter(x,y,edgecolor={'black'})\n",
    "\n",
    "    #Adiciona o nome em cima de cada vértice\n",
    "    eps=0.03\n",
    "    for i, txt in enumerate(range(len(pos))):\n",
    "        plt.annotate(txt, (x[i]+eps, y[i]+eps))\n",
    "    plt.show()"
   ]
  },
  {
   "cell_type": "code",
   "execution_count": null,
   "metadata": {},
   "outputs": [],
   "source": [
    "G = generate_random_graph(15)\n",
    "draw_graph(G)"
   ]
  },
  {
   "cell_type": "code",
   "execution_count": null,
   "metadata": {},
   "outputs": [],
   "source": [
    "v_ini = 0\n",
    "v_final = 3\n",
    "\n",
    "#Aplicando o método de dijkstra\n",
    "min_path = ntx.dijkstra_path(G, v_ini, v_final, weight='weight')\n",
    "min_distance = ntx.dijkstra_path_length(G,0,5,weight='weight')\n",
    "\n",
    "print(f'Vértice inicial: {v_ini}, Vértice final: {v_final}')\n",
    "print(f'Menor caminho: {min_path} \\nMenor distância: {min_distance}')\n",
    "draw_graph(G,modified = True, path_list = min_path)"
   ]
  },
  {
   "cell_type": "code",
   "execution_count": null,
   "metadata": {},
   "outputs": [],
   "source": [
    "def prim(G):\n",
    "  E = tree.minimum_spanning_edges(G, algorithm=\"prim\", data=False)\n",
    "  edges = list(E)\n",
    "  sorted_edges = sorted(sorted(x) for x in edges)\n",
    "  return sorted_edges"
   ]
  },
  {
   "cell_type": "code",
   "execution_count": null,
   "metadata": {},
   "outputs": [],
   "source": [
    "G = generate_random_graph(n=26, seed=10)\n",
    "E = prim(G)\n",
    "draw_graph(G,layout='')\n"
   ]
  },
  {
   "cell_type": "code",
   "execution_count": null,
   "metadata": {},
   "outputs": [],
   "source": [
    "#Aplicando o prim\n",
    "draw_graph(G,modified = True, path_list = list(G.nodes), layout=' ', show_arrows = False, has_path = False,custom_edges=E)"
   ]
  },
  {
   "cell_type": "code",
   "execution_count": null,
   "metadata": {},
   "outputs": [],
   "source": []
  }
 ],
 "metadata": {
  "kernelspec": {
   "display_name": "Python 3.9.13 ('projeto_fluxo_em_redes_venv': venv)",
   "language": "python",
   "name": "python3"
  },
  "language_info": {
   "codemirror_mode": {
    "name": "ipython",
    "version": 3
   },
   "file_extension": ".py",
   "mimetype": "text/x-python",
   "name": "python",
   "nbconvert_exporter": "python",
   "pygments_lexer": "ipython3",
   "version": "3.9.13"
  },
  "orig_nbformat": 4,
  "vscode": {
   "interpreter": {
    "hash": "fb148eb4179b34544be76e7f25d9b56dd41a30bd15e7963fd7bd5445a493d349"
   }
  }
 },
 "nbformat": 4,
 "nbformat_minor": 2
}
