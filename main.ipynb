{
 "cells": [
  {
   "cell_type": "code",
   "execution_count": null,
   "metadata": {},
   "outputs": [],
   "source": [
    "#Importando pacotes que serão utilizados para a resolução do exercício\n",
    "import numpy as np\n",
    "import networkx as ntx\n",
    "import matplotlib.pyplot as plt\n",
    "import random\n",
    "from networkx.algorithms import tree"
   ]
  },
  {
   "cell_type": "code",
   "execution_count": null,
   "metadata": {},
   "outputs": [],
   "source": [
    "#função gera um grafo completo com arestas de caminhos aleatórios\n",
    "def generate_random_graph(n, seed=10):\n",
    "    random.seed(seed)\n",
    "\n",
    "    G = ntx.expected_degree_graph(list(np.ones(n)*9), seed=None, selfloops=False)\n",
    "    ntx.to_undirected(G)\n",
    "\n",
    "    edges = ntx.edges(G)\n",
    "    for edge in edges:\n",
    "        ntx.set_edge_attributes(G,{edge:{\"weight\":random.randrange(1,10),\"cmap\":0.25}})\n",
    "    return G"
   ]
  },
  {
   "cell_type": "code",
   "execution_count": null,
   "metadata": {},
   "outputs": [],
   "source": [
    "#Função desenha um grafo\n",
    "def draw_graph(G,modified = False, path_list = [], layout='circular', show_arrows = True, has_path = True,custom_edges=[]):\n",
    "    f,ax = plt.subplots(figsize=(6,6))\n",
    "\n",
    "    #Define um layout adequado\n",
    "    if layout == 'circular':\n",
    "        pos = ntx.circular_layout(G)\n",
    "    else:\n",
    "        pos = ntx.random_layout(G, seed=3)\n",
    "\n",
    "    #Determina as posições de cada vértice\n",
    "    x = []\n",
    "    y = []\n",
    "\n",
    "    for i in range(len(pos)):\n",
    "        x.append(pos[i][0])\n",
    "        y.append(pos[i][1])\n",
    "\n",
    "    #Desenha as arestas de acordo com o problema\n",
    "    if not modified:\n",
    "        ntx.draw_networkx_edges(G, pos=pos, edge_color='dimgray',alpha=0.5)\n",
    "    else:\n",
    "        if has_path:\n",
    "            custom_edges = []\n",
    "            for i in range(len(path_list)-1):\n",
    "                custom_edges.append((path_list[i],path_list[i+1]))\n",
    "        edge_labels = ntx.get_edge_attributes(ntx.to_directed(G.subgraph(path_list)), \"weight\")\n",
    "        del edge_labels[(path_list[0],path_list[-1])]\n",
    "        del edge_labels[(path_list[-1],path_list[0])]\n",
    "        if has_path:\n",
    "            #Desenha um subgrafo direcionado dado um trajeto\n",
    "            ntx.draw_networkx_edges(ntx.to_directed(G.subgraph(path_list)), pos=pos\n",
    "    , edgelist = custom_edges, edge_color='r', label='weight', arrows = show_arrows)\n",
    "            ntx.draw_networkx_edge_labels(ntx.to_directed(G.subgraph(path_list)), pos, edge_labels, rotate =False)\n",
    "        else:\n",
    "            ntx.draw_networkx_edges(G.subgraph(path_list), pos=pos\n",
    "    , edgelist = custom_edges, edge_color='r', label='weight', arrows = show_arrows)\n",
    "\n",
    "    #Plota cada vértice\n",
    "    plt.scatter(x,y,edgecolor={'black'})\n",
    "\n",
    "    #Adiciona o nome em cima de cada vértice\n",
    "    eps=0.03\n",
    "    for i, txt in enumerate(range(len(pos))):\n",
    "        plt.annotate(txt, (x[i]+eps, y[i]+eps))\n",
    "    plt.show()"
   ]
  },
  {
   "cell_type": "code",
   "execution_count": null,
   "metadata": {},
   "outputs": [],
   "source": [
    "G = generate_random_graph(15)\n",
    "draw_graph(G)"
   ]
  },
  {
   "cell_type": "code",
   "execution_count": null,
   "metadata": {},
   "outputs": [],
   "source": [
    "v_ini = 0\n",
    "v_final = 3\n",
    "\n",
    "#Aplicando o método de dijkstra\n",
    "min_path = ntx.dijkstra_path(G, v_ini, v_final, weight='weight')\n",
    "min_distance = ntx.dijkstra_path_length(G,0,5,weight='weight')\n",
    "\n",
    "print(f'Vértice inicial: {v_ini}, Vértice final: {v_final}')\n",
    "print(f'Menor caminho: {min_path} \\nMenor distância: {min_distance}')\n",
    "draw_graph(G,modified = True, path_list = min_path)"
   ]
  },
  {
   "cell_type": "code",
   "execution_count": null,
   "metadata": {},
   "outputs": [],
   "source": [
    "def prim(G):\n",
    "  E = tree.minimum_spanning_edges(G, algorithm=\"prim\", data=False)\n",
    "  edges = list(E)\n",
    "  sorted_edges = sorted(sorted(x) for x in edges)\n",
    "  return sorted_edges"
   ]
  },
  {
   "cell_type": "code",
   "execution_count": null,
   "metadata": {},
   "outputs": [],
   "source": [
    "G = generate_random_graph(n=26, seed=10)\n",
    "E = prim(G)\n",
    "draw_graph(G,layout='')\n"
   ]
  },
  {
   "cell_type": "code",
   "execution_count": null,
   "metadata": {},
   "outputs": [],
   "source": [
    "#Aplicando o prim\n",
    "draw_graph(G,modified = True, path_list = list(G.nodes), layout=' ', show_arrows = False, has_path = False,custom_edges=E)"
   ]
  },
  {
   "cell_type": "code",
   "execution_count": null,
   "metadata": {},
   "outputs": [],
   "source": []
  }
 ],
 "metadata": {
  "kernelspec": {
   "display_name": "Python 3.9.2 64-bit",
   "language": "python",
   "name": "python3"
  },
  "language_info": {
   "name": "python",
   "version": "3.9.2"
  },
  "orig_nbformat": 4,
  "vscode": {
   "interpreter": {
    "hash": "3033d1d2b3eae499b47b4c615a197cc2262a100bbd1f1bac411eadce6bb0ce66"
   }
  }
 },
 "nbformat": 4,
 "nbformat_minor": 2
}
